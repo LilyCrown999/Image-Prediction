{
 "cells": [
  {
   "cell_type": "code",
   "execution_count": null,
   "id": "2674277b",
   "metadata": {},
   "outputs": [],
   "source": [
    "try:\n",
    "    from tensorflow.keras.applications.resnet50 import ResNet50\n",
    "    from tensorflow.keras.preprocessing import image\n",
    "    from tensorflow.keras.applications.resnet50 import preprocess_input, decode_predictions\n",
    "    import numpy as np\n",
    "    \n",
    "except Exception as e:\n",
    "    print('Exception \\n', e)"
   ]
  },
  {
   "cell_type": "code",
   "execution_count": null,
   "id": "5f929560",
   "metadata": {},
   "outputs": [],
   "source": [
    "model = ResNet50(weights='imagenet')"
   ]
  },
  {
   "cell_type": "code",
   "execution_count": null,
   "id": "04ef2500",
   "metadata": {},
   "outputs": [],
   "source": [
    "img_path = 'https://images.unsplash.com/photo-1661098483143-ba2f72534795?ixlib=rb-1.2.1&ixid=MnwxMjA3fDB8MHxwaG90by1wYWdlfHx8fGVufDB8fHx8&auto=format&fit=crop&w=1332&q=80'"
   ]
  },
  {
   "cell_type": "markdown",
   "id": "8e055c49",
   "metadata": {},
   "source": [
    "<img src=\"https://images.unsplash.com/photo-1661098483143-ba2f72534795?ixlib=rb-1.2.1&ixid=MnwxMjA3fDB8MHxwaG90by1wYWdlfHx8fGVufDB8fHx8&auto=format&fit=crop&w=1332&q=80\" />"
   ]
  },
  {
   "cell_type": "code",
   "execution_count": null,
   "id": "c548ad1f",
   "metadata": {},
   "outputs": [],
   "source": [
    "img = image.load_img(img_path, target_size=(224, 224))\n",
    "x = image.img_to_array(img)\n",
    "x = np.expand_dims(x, axis=0)\n",
    "x = preprocess_input(x)"
   ]
  },
  {
   "cell_type": "code",
   "execution_count": null,
   "id": "461bb3ac",
   "metadata": {},
   "outputs": [],
   "source": [
    "preds = model.predict(x)"
   ]
  },
  {
   "cell_type": "code",
   "execution_count": null,
   "id": "0a976bd8",
   "metadata": {},
   "outputs": [],
   "source": [
    "result = ('Predicted:', decode_predictions(preds, top=3)[0])\n"
   ]
  },
  {
   "cell_type": "code",
   "execution_count": null,
   "id": "a37dbb78",
   "metadata": {},
   "outputs": [],
   "source": [
    "result"
   ]
  }
 ],
 "metadata": {
  "kernelspec": {
   "display_name": "Python 3.10.6 ('env': venv)",
   "language": "python",
   "name": "python3"
  },
  "language_info": {
   "codemirror_mode": {
    "name": "ipython",
    "version": 3
   },
   "file_extension": ".py",
   "mimetype": "text/x-python",
   "name": "python",
   "nbconvert_exporter": "python",
   "pygments_lexer": "ipython3",
   "version": "3.10.6"
  },
  "vscode": {
   "interpreter": {
    "hash": "59e939b04a3e40efdfad71d0235e550bac1717d6f7366b70d2d7dafc9464ad9d"
   }
  }
 },
 "nbformat": 4,
 "nbformat_minor": 5
}
